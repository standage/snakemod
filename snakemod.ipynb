{
 "cells": [
  {
   "cell_type": "markdown",
   "metadata": {},
   "source": [
    "## Modularity in Snakemake workflows\n",
    "\n",
    "The Snakemake workflow engine has proven itself useful in creating, maintaining, and extending a variety of our bioinformatics analysis workflows.\n",
    "We use Snakemake to create both single-purpose workflows as well as workflows that we expect to use and re-use frequently over an extended period of time.\n",
    "Accordingly, we will be faced with two recurrent questions.\n",
    "\n",
    "1. Which parts of which workflows can be re-used?\n",
    "2. What is the best strategy for modularity and re-use?\n",
    "\n",
    "We don't yet have enough information to provide a detailed and confident answer for those questions in the context of NBFAC workflows.\n",
    "The purpose of this workshop is to describe three complementary strategies to creating workflows or workflow components that can be maintained in a single place and re-used in numerous contexts."
   ]
  },
  {
   "cell_type": "markdown",
   "metadata": {},
   "source": [
    "## Synopsis\n",
    "\n",
    "1. **Subworkflows** are the best way to connect distinct workflows, when each of those workflows is capable of running on its own. Each workflow can have its own configuration.\n",
    "2. **Includes** are typically a small set of re-usable rules that get embedded into a larger workflow and share its configuration. This is the simplest way to re-use workflow components.\n",
    "3. **Wrappers** are used at the rule level, and provide the smallest building block for constructing workflows from re-usable parts. Snakemake maintains a public repository of wrappers for common tools, but Snakemake can also make use of private or local wrapper definitions."
   ]
  },
  {
   "cell_type": "markdown",
   "metadata": {},
   "source": [
    "## Example workflow\n",
    "\n",
    "![Workflow](workflow.png)\n",
    "\n",
    "The demo workflow for this workshop is a fairly simple and linear workflow. In summary, it:\n",
    "\n",
    "- Downsamples Illumina reads to a user-specified number of read pairs using seqtk\n",
    "- Assembles the downsampled reads using SPAdes\n",
    "- Maps the original reads back to the assembled contigs using Bowtie2\n",
    "- Converts the alignment output in SAM format to BAM format, and sorts the aligned reads by position using SAMtools\n",
    "- Calculates some summary statistics from the read mappings using SAMtools\n",
    "\n",
    "The workflow consists of 9 rules: 3 related to proprocessing and assembly, 5 related to read mapping, and the 1 \"default\" rule to rule them all.\n",
    "With subworkflows and includes, we can explore how to re-use groups of related rules.\n",
    "With wrappers, we can explore how to replace rules running commonly used software with standardized invocation."
   ]
  },
  {
   "cell_type": "markdown",
   "metadata": {},
   "source": [
    "## Subworkflows\n",
    "\n",
    "asdf"
   ]
  },
  {
   "cell_type": "markdown",
   "metadata": {},
   "source": [
    "## Includes\n",
    "\n",
    "Snakemake's `include` statement allows a user to import the contents of another Snakefile.\n",
    "This other file can implement an entire workflow itself, or represent only a fragment of a workflow.\n",
    "Snakemake operates as if the user had copied and pasted the contents of the `include`d file into the main Snakefile (except that the default rule is not affected).\n",
    "As a result, the main workflow and all included workflows share a single scope, and thus use a single shared configuration.\n",
    "\n",
    "- pros\n",
    "    - simplest to implement\n",
    "    - included Snakefiles don't have to be free-standing workflows\n",
    "    - ???\n",
    "- cons\n",
    "    - shared scope encourages tight coupling of loosely related steps\n",
    "    - shared config not easy to implement"
   ]
  },
  {
   "cell_type": "markdown",
   "metadata": {},
   "source": [
    "## Wrappers\n",
    "\n",
    "asdf"
   ]
  },
  {
   "cell_type": "code",
   "execution_count": null,
   "metadata": {},
   "outputs": [],
   "source": []
  }
 ],
 "metadata": {
  "kernelspec": {
   "display_name": "Python 3",
   "language": "python",
   "name": "python3"
  },
  "language_info": {
   "codemirror_mode": {
    "name": "ipython",
    "version": 3
   },
   "file_extension": ".py",
   "mimetype": "text/x-python",
   "name": "python",
   "nbconvert_exporter": "python",
   "pygments_lexer": "ipython3",
   "version": "3.7.8"
  }
 },
 "nbformat": 4,
 "nbformat_minor": 4
}
